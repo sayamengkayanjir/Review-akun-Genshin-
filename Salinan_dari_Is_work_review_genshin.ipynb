{
  "nbformat": 4,
  "nbformat_minor": 0,
  "metadata": {
    "colab": {
      "provenance": [],
      "gpuType": "T4",
      "authorship_tag": "ABX9TyP1yN3p2Ut6pGHwmIF2HNDE",
      "include_colab_link": true
    },
    "kernelspec": {
      "name": "python3",
      "display_name": "Python 3"
    },
    "language_info": {
      "name": "python"
    },
    "accelerator": "GPU"
  },
  "cells": [
    {
      "cell_type": "markdown",
      "metadata": {
        "id": "view-in-github",
        "colab_type": "text"
      },
      "source": [
        "<a href=\"https://colab.research.google.com/github/sayamengkayanjir/Review-akun-Genshin-/blob/main/Salinan_dari_Is_work_review_genshin.ipynb\" target=\"_parent\"><img src=\"https://colab.research.google.com/assets/colab-badge.svg\" alt=\"Open In Colab\"/></a>"
      ]
    },
    {
      "cell_type": "code",
      "execution_count": null,
      "metadata": {
        "colab": {
          "base_uri": "https://localhost:8080/",
          "height": 273
        },
        "id": "FkwSwLvmypKn",
        "outputId": "2def3058-a361-4141-f8df-1eac6f20bd49"
      },
      "outputs": [
        {
          "output_type": "stream",
          "name": "stdout",
          "text": [
            "Collecting asyncio\n",
            "  Downloading asyncio-3.4.3-py3-none-any.whl.metadata (1.7 kB)\n",
            "Downloading asyncio-3.4.3-py3-none-any.whl (101 kB)\n",
            "\u001b[?25l   \u001b[90m━━━━━━━━━━━━━━━━━━━━━━━━━━━━━━━━━━━━━━━━\u001b[0m \u001b[32m0.0/101.8 kB\u001b[0m \u001b[31m?\u001b[0m eta \u001b[36m-:--:--\u001b[0m\r\u001b[2K   \u001b[90m━━━━━━━━━━━━━━━━━━━━━━━━━━━━━━━━━━━━━━━━\u001b[0m \u001b[32m101.8/101.8 kB\u001b[0m \u001b[31m4.3 MB/s\u001b[0m eta \u001b[36m0:00:00\u001b[0m\n",
            "\u001b[?25hInstalling collected packages: asyncio\n",
            "Successfully installed asyncio-3.4.3\n"
          ]
        },
        {
          "output_type": "display_data",
          "data": {
            "application/vnd.colab-display-data+json": {
              "pip_warning": {
                "packages": [
                  "asyncio"
                ]
              },
              "id": "e8fbb937bd164da79cd6c16530abf26a"
            }
          },
          "metadata": {}
        }
      ],
      "source": [
        "!pip install asyncio"
      ]
    },
    {
      "cell_type": "code",
      "source": [
        "!pip install enka"
      ],
      "metadata": {
        "colab": {
          "base_uri": "https://localhost:8080/"
        },
        "id": "-yUNCKLHy8F0",
        "outputId": "06145c16-f46d-4cf8-ab57-2aff3bcf9616"
      },
      "execution_count": null,
      "outputs": [
        {
          "output_type": "stream",
          "name": "stdout",
          "text": [
            "Requirement already satisfied: enka in /usr/local/lib/python3.10/dist-packages (2.4.3)\n",
            "Requirement already satisfied: aiofiles>=24.1.0 in /usr/local/lib/python3.10/dist-packages (from enka) (24.1.0)\n",
            "Requirement already satisfied: aiohttp>=3.10.9 in /usr/local/lib/python3.10/dist-packages (from enka) (3.11.10)\n",
            "Requirement already satisfied: aiosqlite>=0.20.0 in /usr/local/lib/python3.10/dist-packages (from enka) (0.20.0)\n",
            "Requirement already satisfied: loguru>=0.7.2 in /usr/local/lib/python3.10/dist-packages (from enka) (0.7.3)\n",
            "Requirement already satisfied: orjson>=3.10.7 in /usr/local/lib/python3.10/dist-packages (from enka) (3.10.12)\n",
            "Requirement already satisfied: pydantic>=2.9.2 in /usr/local/lib/python3.10/dist-packages (from enka) (2.10.3)\n",
            "Requirement already satisfied: aiohappyeyeballs>=2.3.0 in /usr/local/lib/python3.10/dist-packages (from aiohttp>=3.10.9->enka) (2.4.4)\n",
            "Requirement already satisfied: aiosignal>=1.1.2 in /usr/local/lib/python3.10/dist-packages (from aiohttp>=3.10.9->enka) (1.3.2)\n",
            "Requirement already satisfied: async-timeout<6.0,>=4.0 in /usr/local/lib/python3.10/dist-packages (from aiohttp>=3.10.9->enka) (4.0.3)\n",
            "Requirement already satisfied: attrs>=17.3.0 in /usr/local/lib/python3.10/dist-packages (from aiohttp>=3.10.9->enka) (24.3.0)\n",
            "Requirement already satisfied: frozenlist>=1.1.1 in /usr/local/lib/python3.10/dist-packages (from aiohttp>=3.10.9->enka) (1.5.0)\n",
            "Requirement already satisfied: multidict<7.0,>=4.5 in /usr/local/lib/python3.10/dist-packages (from aiohttp>=3.10.9->enka) (6.1.0)\n",
            "Requirement already satisfied: propcache>=0.2.0 in /usr/local/lib/python3.10/dist-packages (from aiohttp>=3.10.9->enka) (0.2.1)\n",
            "Requirement already satisfied: yarl<2.0,>=1.17.0 in /usr/local/lib/python3.10/dist-packages (from aiohttp>=3.10.9->enka) (1.18.3)\n",
            "Requirement already satisfied: typing_extensions>=4.0 in /usr/local/lib/python3.10/dist-packages (from aiosqlite>=0.20.0->enka) (4.12.2)\n",
            "Requirement already satisfied: annotated-types>=0.6.0 in /usr/local/lib/python3.10/dist-packages (from pydantic>=2.9.2->enka) (0.7.0)\n",
            "Requirement already satisfied: pydantic-core==2.27.1 in /usr/local/lib/python3.10/dist-packages (from pydantic>=2.9.2->enka) (2.27.1)\n",
            "Requirement already satisfied: idna>=2.0 in /usr/local/lib/python3.10/dist-packages (from yarl<2.0,>=1.17.0->aiohttp>=3.10.9->enka) (3.10)\n"
          ]
        }
      ]
    },
    {
      "cell_type": "code",
      "source": [
        "from __future__ import annotations\n",
        "\n",
        "import asyncio\n",
        "import enka\n",
        "\n",
        "FIGHT_PROPS_TO_SHOW = (\n",
        "    enka.gi.FightPropType.FIGHT_PROP_MAX_HP,\n",
        "    enka.gi.FightPropType.FIGHT_PROP_CUR_ATTACK,\n",
        "    enka.gi.FightPropType.FIGHT_PROP_CUR_DEFENSE,\n",
        "    enka.gi.FightPropType.FIGHT_PROP_ELEMENT_MASTERY,\n",
        "    enka.gi.FightPropType.FIGHT_PROP_CRITICAL,\n",
        "    enka.gi.FightPropType.FIGHT_PROP_CRITICAL_HURT,\n",
        "    enka.gi.FightPropType.FIGHT_PROP_CHARGE_EFFICIENCY,\n",
        ")\n",
        "\n",
        "async def main() -> None:\n",
        "    # Input UID dari pengguna\n",
        "    uid = input(\"Masukkan UID pemain Genshin Impact: \")\n",
        "    try:\n",
        "        uid = int(uid)\n",
        "    except ValueError:\n",
        "        print(\"UID harus berupa angka.\")\n",
        "        return\n",
        "\n",
        "    async with enka.GenshinClient(enka.gi.Language.INDONESIAN) as api:\n",
        "        # Update assets\n",
        "        await api.update_assets()\n",
        "\n",
        "        try:\n",
        "            response = await api.fetch_showcase(uid)\n",
        "        except enka.errors.PlayerDoesNotExistError:\n",
        "            print(\"Pemain tidak ditemukan.\")\n",
        "            return\n",
        "        except enka.errors.GameMaintenanceError:\n",
        "            print(\"Game sedang dalam perawatan.\")\n",
        "            return\n",
        "\n",
        "        print(\"\\nPemain:\", response.player.nickname)\n",
        "        print(\"Signature:\", response.player.signature)\n",
        "        print(\"Level:\", response.player.level)\n",
        "        print(\"Achievements:\", response.player.achievements)\n",
        "        print(\"Namecard:\", response.player.namecard.full)\n",
        "        print(\"Profile picture side icon:\", response.player.profile_picture_icon.side)\n",
        "\n",
        "        # Menampilkan daftar karakter\n",
        "        print(\"\\nDaftar Karakter:\")\n",
        "        for i, character in enumerate(response.characters):\n",
        "            print(f\"{i}. {character.name} (Lv. {character.level}/{character.max_level})\")\n",
        "\n",
        "        # Input pilihan karakter\n",
        "        try:\n",
        "            char_index = int(input(\"Masukkan nomor karakter yang ingin direview: \"))\n",
        "            character = response.characters[char_index]\n",
        "        except (ValueError, IndexError):\n",
        "            print(\"Pilihan tidak valid.\")\n",
        "            return\n",
        "\n",
        "        # Menampilkan detail karakter yang dipilih\n",
        "        print(\"\\n===============================\\n\")\n",
        "        print(\n",
        "            f\"Lv. {character.level}/{character.max_level} {character.name} (C{character.constellations_unlocked})\"\n",
        "        )\n",
        "        print(f\"Rarity: {character.rarity} ★\")\n",
        "        print(\"Element:\", character.element.name.title())\n",
        "        print(\"Side icon:\", character.icon.side)\n",
        "        print(f\"Talent levels: {'/'.join(str(talent.level) for talent in character.talents)}\")\n",
        "        if character.namecard is not None:\n",
        "            print(\"Namecard:\", character.namecard.full)\n",
        "\n",
        "        if character.costume is not None:\n",
        "            print(\"Costume side icon:\", character.costume.icon.side)\n",
        "\n",
        "        weapon = character.weapon\n",
        "        print(\"\\nWeapon:\")\n",
        "        print(f\"Lv. {weapon.level}/{weapon.max_level} {weapon.name} (R{weapon.refinement})\")\n",
        "        print(f\"Rarity: {weapon.rarity} ★\")\n",
        "        for stat in weapon.stats:\n",
        "            print(stat.name, stat.formatted_value)\n",
        "\n",
        "        print(\"\\nStats:\")\n",
        "        for stat_type, stat in character.stats.items():\n",
        "            if stat_type in FIGHT_PROPS_TO_SHOW:\n",
        "                print(stat.name, stat.formatted_value)\n",
        "        dmg_bonus = character.highest_dmg_bonus_stat\n",
        "        print(dmg_bonus.name, dmg_bonus.formatted_value)\n",
        "\n",
        "        print(\"\\nArtifacts:\")\n",
        "        for artifact in character.artifacts:\n",
        "            main_stat = artifact.main_stat\n",
        "            print(\n",
        "                f\"Lv. {artifact.level} {artifact.name}: {main_stat.name} {main_stat.formatted_value}\"\n",
        "            )\n",
        "            for substat in artifact.sub_stats:\n",
        "                print(f\"- {substat.name} {substat.formatted_value}\")\n",
        "            print(\"\")\n",
        "\n",
        "# Untuk Google Colab, gunakan event loop ini\n",
        "from IPython import get_ipython\n",
        "if \"google.colab\" in str(get_ipython()):\n",
        "    import nest_asyncio\n",
        "    nest_asyncio.apply()\n",
        "\n",
        "# Jalankan fungsi\n",
        "await main()"
      ],
      "metadata": {
        "colab": {
          "base_uri": "https://localhost:8080/"
        },
        "id": "YgdS02IQ0W6p",
        "outputId": "9b42af15-8afd-4133-e0fb-9b146666f513"
      },
      "execution_count": null,
      "outputs": [
        {
          "name": "stdout",
          "output_type": "stream",
          "text": [
            "Masukkan UID pemain Genshin Impact: 846057555\n"
          ]
        },
        {
          "output_type": "stream",
          "name": "stderr",
          "text": [
            "\u001b[32m2025-01-05 09:38:12.186\u001b[0m | \u001b[1mINFO    \u001b[0m | \u001b[36menka.clients.gi\u001b[0m:\u001b[36mupdate_assets\u001b[0m:\u001b[36m228\u001b[0m - \u001b[1mUpdating GI assets...\u001b[0m\n",
            "\u001b[32m2025-01-05 09:38:12.187\u001b[0m | \u001b[34m\u001b[1mDEBUG   \u001b[0m | \u001b[36menka.assets.updater\u001b[0m:\u001b[36m_fetch_json\u001b[0m:\u001b[36m34\u001b[0m - \u001b[34m\u001b[1mFetching https://raw.githubusercontent.com/seriaati/enka-py-assets/main/data/text_map_id.json\u001b[0m\n",
            "\u001b[32m2025-01-05 09:38:12.474\u001b[0m | \u001b[34m\u001b[1mDEBUG   \u001b[0m | \u001b[36menka.assets.updater\u001b[0m:\u001b[36m_fetch_json\u001b[0m:\u001b[36m34\u001b[0m - \u001b[34m\u001b[1mFetching https://raw.githubusercontent.com/seriaati/enka-py-assets/main/data/characters.json\u001b[0m\n",
            "\u001b[32m2025-01-05 09:38:12.691\u001b[0m | \u001b[34m\u001b[1mDEBUG   \u001b[0m | \u001b[36menka.assets.updater\u001b[0m:\u001b[36m_fetch_json\u001b[0m:\u001b[36m34\u001b[0m - \u001b[34m\u001b[1mFetching https://raw.githubusercontent.com/EnkaNetwork/API-docs/master/store/namecards.json\u001b[0m\n",
            "\u001b[32m2025-01-05 09:38:12.846\u001b[0m | \u001b[34m\u001b[1mDEBUG   \u001b[0m | \u001b[36menka.assets.updater\u001b[0m:\u001b[36m_fetch_json\u001b[0m:\u001b[36m34\u001b[0m - \u001b[34m\u001b[1mFetching https://raw.githubusercontent.com/seriaati/enka-py-assets/main/data/consts.json\u001b[0m\n",
            "\u001b[32m2025-01-05 09:38:13.025\u001b[0m | \u001b[34m\u001b[1mDEBUG   \u001b[0m | \u001b[36menka.assets.updater\u001b[0m:\u001b[36m_fetch_json\u001b[0m:\u001b[36m34\u001b[0m - \u001b[34m\u001b[1mFetching https://raw.githubusercontent.com/seriaati/enka-py-assets/main/data/talents.json\u001b[0m\n",
            "\u001b[32m2025-01-05 09:38:13.184\u001b[0m | \u001b[34m\u001b[1mDEBUG   \u001b[0m | \u001b[36menka.assets.updater\u001b[0m:\u001b[36m_fetch_json\u001b[0m:\u001b[36m34\u001b[0m - \u001b[34m\u001b[1mFetching https://raw.githubusercontent.com/EnkaNetwork/API-docs/master/store/pfps.json\u001b[0m\n",
            "\u001b[32m2025-01-05 09:38:13.345\u001b[0m | \u001b[1mINFO    \u001b[0m | \u001b[36menka.clients.gi\u001b[0m:\u001b[36mupdate_assets\u001b[0m:\u001b[36m231\u001b[0m - \u001b[1mGI assets updated\u001b[0m\n",
            "\u001b[32m2025-01-05 09:38:13.348\u001b[0m | \u001b[34m\u001b[1mDEBUG   \u001b[0m | \u001b[36menka.clients.base\u001b[0m:\u001b[36m_request\u001b[0m:\u001b[36m66\u001b[0m - \u001b[34m\u001b[1mRequesting https://enka.network/api/uid/846057555\u001b[0m\n"
          ]
        },
        {
          "output_type": "stream",
          "name": "stdout",
          "text": [
            "\n",
            "Pemain: Rui\n",
            "Signature: \n",
            "Level: 60\n",
            "Achievements: 891\n",
            "Namecard: https://enka.network/ui/UI_NameCardPic_Nilou_P.png\n",
            "Profile picture side icon: https://enka.network/ui/UI_AvatarIcon_Side_Citlali.png\n",
            "\n",
            "Daftar Karakter:\n",
            "0. Kamisato Ayato (Lv. 90/90)\n",
            "1. Tartaglia (Lv. 85/90)\n",
            "2. Zhongli (Lv. 90/90)\n",
            "3. Arlecchino (Lv. 90/90)\n",
            "4. Kamisato Ayaka (Lv. 90/90)\n",
            "5. Raiden Shogun (Lv. 90/90)\n",
            "6. Furina (Lv. 90/90)\n",
            "7. Nilou (Lv. 90/90)\n",
            "Masukkan nomor karakter yang ingin direview: 6\n",
            "\n",
            "===============================\n",
            "\n",
            "Lv. 90/90 Furina (C0)\n",
            "Rarity: 5 ★\n",
            "Element: Hydro\n",
            "Side icon: https://enka.network/ui/UI_AvatarIcon_Side_Furina.png\n",
            "Talent levels: 1/10/10\n",
            "Namecard: https://enka.network/ui/UI_NameCardPic_Furina_P.png\n",
            "\n",
            "Weapon:\n",
            "Lv. 90/90 Splendor of Tranquil Waters (R1)\n",
            "Rarity: 5 ★\n",
            "Base ATK 542\n",
            "CRIT DMG 88.2%\n",
            "\n",
            "Stats:\n",
            "CRIT Rate 67.8%\n",
            "CRIT DMG 232.3%\n",
            "Energy Recharge 114.9%\n",
            "Elemental Mastery 16\n",
            "Max HP 29,424\n",
            "ATK 1,302\n",
            "DEF 856\n",
            "Hydro DMG Bonus 46.6%\n",
            "\n",
            "Artifacts:\n",
            "Lv. 20 Golden Song's Variation: HP 4780\n",
            "- DEF 23\n",
            "- ATK 35\n",
            "- CRIT DMG 6.2%\n",
            "- CRIT Rate 12.4%\n",
            "\n",
            "Lv. 20 Golden Bird's Shedding: ATK 311\n",
            "- ATK 9.3%\n",
            "- HP 11.7%\n",
            "- CRIT Rate 10.9%\n",
            "- CRIT DMG 5.4%\n",
            "\n",
            "Lv. 20 Golden Era's Prelude: HP 46.6%\n",
            "- ATK 19\n",
            "- Elemental Mastery 16\n",
            "- DEF 81\n",
            "- CRIT Rate 6.6%\n",
            "\n",
            "Lv. 20 Goblet of Thundering Deep: Hydro DMG Bonus 46.6%\n",
            "- CRIT Rate 2.7%\n",
            "- CRIT DMG 20.2%\n",
            "- Energy Recharge 14.9%\n",
            "- DEF 5.1%\n",
            "\n",
            "Lv. 20 Golden Troupe's Reward: CRIT DMG 62.2%\n",
            "- HP 418\n",
            "- ATK 9.9%\n",
            "- CRIT Rate 10.9%\n",
            "- DEF 21\n",
            "\n"
          ]
        }
      ]
    }
  ]
}